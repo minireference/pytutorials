{
 "cells": [
  {
   "cell_type": "code",
   "execution_count": 1,
   "metadata": {
    "collapsed": true
   },
   "outputs": [],
   "source": [
    "import json"
   ]
  },
  {
   "cell_type": "code",
   "execution_count": 2,
   "metadata": {
    "collapsed": true
   },
   "outputs": [],
   "source": [
    "data_file = open('../python-bigdata/intro-python.ipynb')\n",
    "data = json.loads(data_file.read())"
   ]
  },
  {
   "cell_type": "code",
   "execution_count": 5,
   "metadata": {
    "collapsed": false
   },
   "outputs": [
    {
     "name": "stdout",
     "output_type": "stream",
     "text": [
      "markdown\n",
      "markdown\n",
      "code\n",
      "code\n",
      "code\n",
      "markdown\n",
      "code\n",
      "markdown\n",
      "code\n",
      "markdown\n",
      "code\n",
      "code\n",
      "markdown\n",
      "code\n",
      "code\n",
      "code\n",
      "code\n",
      "markdown\n",
      "code\n",
      "markdown\n",
      "code\n",
      "markdown\n",
      "code\n",
      "code\n",
      "markdown\n",
      "code\n",
      "code\n",
      "code\n",
      "markdown\n",
      "code\n",
      "code\n",
      "markdown\n",
      "code\n",
      "markdown\n",
      "code\n",
      "code\n",
      "code\n",
      "code\n",
      "code\n",
      "markdown\n",
      "markdown\n",
      "code\n",
      "code\n",
      "markdown\n",
      "markdown\n",
      "code\n",
      "markdown\n",
      "code\n",
      "markdown\n",
      "markdown\n",
      "code\n",
      "markdown\n",
      "code\n",
      "markdown\n",
      "code\n",
      "code\n",
      "markdown\n",
      "code\n",
      "code\n",
      "code\n",
      "code\n",
      "code\n",
      "code\n",
      "markdown\n",
      "code\n",
      "markdown\n",
      "code\n",
      "markdown\n",
      "code\n",
      "code\n",
      "markdown\n",
      "code\n",
      "code\n",
      "markdown\n",
      "code\n",
      "markdown\n",
      "code\n",
      "markdown\n",
      "code\n",
      "markdown\n",
      "code\n",
      "code\n",
      "markdown\n",
      "markdown\n",
      "code\n",
      "code\n",
      "code\n",
      "markdown\n",
      "code\n",
      "markdown\n",
      "code\n",
      "code\n",
      "markdown\n",
      "code\n",
      "markdown\n",
      "code\n",
      "markdown\n",
      "code\n",
      "markdown\n",
      "code\n",
      "markdown\n",
      "code\n",
      "markdown\n",
      "code\n",
      "markdown\n",
      "code\n",
      "markdown\n",
      "code\n",
      "markdown\n",
      "code\n",
      "markdown\n",
      "code\n",
      "markdown\n",
      "code\n",
      "markdown\n",
      "code\n",
      "markdown\n",
      "code\n",
      "markdown\n",
      "code\n",
      "markdown\n",
      "code\n",
      "markdown\n",
      "code\n",
      "markdown\n",
      "code\n",
      "markdown\n",
      "code\n",
      "markdown\n",
      "code\n",
      "code\n",
      "markdown\n",
      "code\n",
      "code\n",
      "code\n",
      "markdown\n",
      "code\n",
      "markdown\n",
      "markdown\n",
      "code\n",
      "markdown\n",
      "code\n",
      "markdown\n",
      "markdown\n",
      "code\n",
      "markdown\n",
      "code\n",
      "markdown\n",
      "code\n",
      "markdown\n",
      "code\n",
      "markdown\n",
      "code\n",
      "code\n",
      "code\n",
      "markdown\n",
      "code\n",
      "markdown\n",
      "code\n",
      "markdown\n",
      "code\n",
      "markdown\n",
      "markdown\n",
      "code\n",
      "code\n",
      "markdown\n",
      "code\n",
      "code\n",
      "code\n",
      "code\n",
      "code\n"
     ]
    }
   ],
   "source": [
    "for cell in data['cells']:\n",
    "    print(cell['cell_type'])"
   ]
  },
  {
   "cell_type": "code",
   "execution_count": 6,
   "metadata": {
    "collapsed": false
   },
   "outputs": [
    {
     "data": {
      "text/plain": [
       "dict_keys(['metadata', 'cells', 'nbformat', 'nbformat_minor'])"
      ]
     },
     "execution_count": 6,
     "metadata": {},
     "output_type": "execute_result"
    }
   ],
   "source": [
    "data.keys()\n",
    "\n"
   ]
  },
  {
   "cell_type": "code",
   "execution_count": 7,
   "metadata": {
    "collapsed": true
   },
   "outputs": [],
   "source": [
    "copy = data.copy()"
   ]
  },
  {
   "cell_type": "code",
   "execution_count": 8,
   "metadata": {
    "collapsed": true
   },
   "outputs": [],
   "source": [
    "mdcells = [cell for cell in data['cells'] if cell['cell_type']=='markdown']"
   ]
  },
  {
   "cell_type": "code",
   "execution_count": 9,
   "metadata": {
    "collapsed": false
   },
   "outputs": [
    {
     "data": {
      "text/plain": [
       "71"
      ]
     },
     "execution_count": 9,
     "metadata": {},
     "output_type": "execute_result"
    }
   ],
   "source": [
    "len(mdcells)"
   ]
  },
  {
   "cell_type": "code",
   "execution_count": 10,
   "metadata": {
    "collapsed": false
   },
   "outputs": [
    {
     "data": {
      "text/plain": [
       "171"
      ]
     },
     "execution_count": 10,
     "metadata": {},
     "output_type": "execute_result"
    }
   ],
   "source": [
    "len(data['cells'])"
   ]
  },
  {
   "cell_type": "code",
   "execution_count": 11,
   "metadata": {
    "collapsed": true
   },
   "outputs": [],
   "source": [
    "copy['cells'] = mdcells"
   ]
  },
  {
   "cell_type": "code",
   "execution_count": 17,
   "metadata": {
    "collapsed": false
   },
   "outputs": [],
   "source": [
    "out_file = open('edited.ipynb','w')\n",
    "json.dump(copy,out_file)\n",
    "out_file.close()"
   ]
  },
  {
   "cell_type": "code",
   "execution_count": 16,
   "metadata": {
    "collapsed": false
   },
   "outputs": [
    {
     "name": "stdout",
     "output_type": "stream",
     "text": [
      "Help on function dump in module json:\n",
      "\n",
      "dump(obj, fp, skipkeys=False, ensure_ascii=True, check_circular=True, allow_nan=True, cls=None, indent=None, separators=None, default=None, sort_keys=False, **kw)\n",
      "    Serialize ``obj`` as a JSON formatted stream to ``fp`` (a\n",
      "    ``.write()``-supporting file-like object).\n",
      "    \n",
      "    If ``skipkeys`` is true then ``dict`` keys that are not basic types\n",
      "    (``str``, ``int``, ``float``, ``bool``, ``None``) will be skipped\n",
      "    instead of raising a ``TypeError``.\n",
      "    \n",
      "    If ``ensure_ascii`` is false, then the strings written to ``fp`` can\n",
      "    contain non-ASCII characters if they appear in strings contained in\n",
      "    ``obj``. Otherwise, all such characters are escaped in JSON strings.\n",
      "    \n",
      "    If ``check_circular`` is false, then the circular reference check\n",
      "    for container types will be skipped and a circular reference will\n",
      "    result in an ``OverflowError`` (or worse).\n",
      "    \n",
      "    If ``allow_nan`` is false, then it will be a ``ValueError`` to\n",
      "    serialize out of range ``float`` values (``nan``, ``inf``, ``-inf``)\n",
      "    in strict compliance of the JSON specification, instead of using the\n",
      "    JavaScript equivalents (``NaN``, ``Infinity``, ``-Infinity``).\n",
      "    \n",
      "    If ``indent`` is a non-negative integer, then JSON array elements and\n",
      "    object members will be pretty-printed with that indent level. An indent\n",
      "    level of 0 will only insert newlines. ``None`` is the most compact\n",
      "    representation.\n",
      "    \n",
      "    If specified, ``separators`` should be an ``(item_separator, key_separator)``\n",
      "    tuple.  The default is ``(', ', ': ')`` if *indent* is ``None`` and\n",
      "    ``(',', ': ')`` otherwise.  To get the most compact JSON representation,\n",
      "    you should specify ``(',', ':')`` to eliminate whitespace.\n",
      "    \n",
      "    ``default(obj)`` is a function that should return a serializable version\n",
      "    of obj or raise TypeError. The default simply raises TypeError.\n",
      "    \n",
      "    If *sort_keys* is ``True`` (default: ``False``), then the output of\n",
      "    dictionaries will be sorted by key.\n",
      "    \n",
      "    To use a custom ``JSONEncoder`` subclass (e.g. one that overrides the\n",
      "    ``.default()`` method to serialize additional types), specify it with\n",
      "    the ``cls`` kwarg; otherwise ``JSONEncoder`` is used.\n",
      "\n"
     ]
    }
   ],
   "source": [
    "help(json.dump)"
   ]
  },
  {
   "cell_type": "code",
   "execution_count": null,
   "metadata": {
    "collapsed": false
   },
   "outputs": [],
   "source": []
  },
  {
   "cell_type": "code",
   "execution_count": null,
   "metadata": {
    "collapsed": true
   },
   "outputs": [],
   "source": []
  }
 ],
 "metadata": {
  "kernelspec": {
   "display_name": "Python 3",
   "language": "python",
   "name": "python3"
  },
  "language_info": {
   "codemirror_mode": {
    "name": "ipython",
    "version": 3
   },
   "file_extension": ".py",
   "mimetype": "text/x-python",
   "name": "python",
   "nbconvert_exporter": "python",
   "pygments_lexer": "ipython3",
   "version": "3.5.1"
  }
 },
 "nbformat": 4,
 "nbformat_minor": 2
}
